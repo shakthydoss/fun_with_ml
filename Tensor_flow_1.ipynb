{
 "cells": [
  {
   "cell_type": "code",
   "execution_count": 47,
   "metadata": {},
   "outputs": [],
   "source": [
    "import tensorflow as tf\n",
    "import numpy as np"
   ]
  },
  {
   "cell_type": "code",
   "execution_count": 48,
   "metadata": {},
   "outputs": [
    {
     "name": "stdout",
     "output_type": "stream",
     "text": [
      "Hello world\n"
     ]
    }
   ],
   "source": [
    "a = tf.constant(\"Hello world\")\n",
    "sess = tf.Session()\n",
    "print (sess.run(a))\n",
    "sess.close()"
   ]
  },
  {
   "cell_type": "code",
   "execution_count": 52,
   "metadata": {},
   "outputs": [
    {
     "name": "stdout",
     "output_type": "stream",
     "text": [
      "[3, 2]\n",
      "2\n",
      "[3, 2]\n"
     ]
    }
   ],
   "source": [
    "a = tf.placeholder(tf.int16)\n",
    "b = tf.placeholder(tf.int16)\n",
    "\n",
    "add = tf.add(a, b)\n",
    "mul = tf.multiply(a,b)\n",
    "\n",
    "sess = tf.Session()\n",
    "print sess.run([add, mul], feed_dict={a:2, b:1})\n",
    "print sess.run(mul, feed_dict={a:2, b:1})\n",
    "print sess.run([add, mul], feed_dict={a:2, b:1})\n",
    "sess.close()"
   ]
  },
  {
   "cell_type": "code",
   "execution_count": 18,
   "metadata": {},
   "outputs": [
    {
     "name": "stdout",
     "output_type": "stream",
     "text": [
      "9\n"
     ]
    }
   ],
   "source": [
    "x = tf.placeholder(tf.int16)\n",
    "y = tf.placeholder(tf.int16)\n",
    "\n",
    "sum_this = tf.add(x,y)\n",
    "sq = tf.multiply(sum_this, sum_this)\n",
    "\n",
    "sess = tf.Session()\n",
    "print sess.run(sq, feed_dict={x:2, y:1})\n",
    "sess.close()"
   ]
  },
  {
   "cell_type": "code",
   "execution_count": 7,
   "metadata": {},
   "outputs": [
    {
     "name": "stdout",
     "output_type": "stream",
     "text": [
      "<tf.Variable 'Variable_5:0' shape=(1,) dtype=float64_ref>\n",
      "[0.3]\n"
     ]
    }
   ],
   "source": [
    "W = tf.Variable([.3], dtype=tf.float64)\n",
    "print W\n",
    "init = tf.global_variables_initializer()\n",
    "sess = tf.Session()\n",
    "sess.run(init)\n",
    "print sess.run(W)\n",
    "sess.close()"
   ]
  },
  {
   "cell_type": "code",
   "execution_count": 56,
   "metadata": {},
   "outputs": [],
   "source": [
    "x_val = [1,2,3,4]\n",
    "y_val = [0,-1,-2,-3]\n",
    "\n",
    "x = tf.placeholder(dtype=tf.float64)\n",
    "w = tf.Variable([.3], dtype=tf.float64)\n",
    "b = tf.Variable([-.3], dtype=tf.float64)\n",
    "linear_model = w*x + b\n",
    "sq_delta = tf.square(linear_model - y_val)\n",
    "loss = tf.reduce_sum(sq_delta)"
   ]
  },
  {
   "cell_type": "code",
   "execution_count": 66,
   "metadata": {},
   "outputs": [
    {
     "name": "stdout",
     "output_type": "stream",
     "text": [
      "[array([-0.84079816])]\n"
     ]
    }
   ],
   "source": [
    "\n",
    "optimizer = tf.train.GradientDescentOptimizer(0.01)\n",
    "train = optimizer.minimize(loss)\n",
    "\n",
    "init = tf.global_variables_initializer()\n",
    "sess = tf.Session()\n",
    "sess.run(init)\n",
    "for _ in range(100):\n",
    "    sess.run([train,loss], feed_dict={x:[1,2,3,4]})\n",
    "print sess.run([w])\n",
    "sess.close()"
   ]
  },
  {
   "cell_type": "code",
   "execution_count": null,
   "metadata": {},
   "outputs": [],
   "source": []
  }
 ],
 "metadata": {
  "kernelspec": {
   "display_name": "Python 2",
   "language": "python",
   "name": "python2"
  },
  "language_info": {
   "codemirror_mode": {
    "name": "ipython",
    "version": 2
   },
   "file_extension": ".py",
   "mimetype": "text/x-python",
   "name": "python",
   "nbconvert_exporter": "python",
   "pygments_lexer": "ipython2",
   "version": "2.7.10"
  }
 },
 "nbformat": 4,
 "nbformat_minor": 2
}
